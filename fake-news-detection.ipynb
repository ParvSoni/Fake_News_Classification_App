{
 "cells": [
  {
   "cell_type": "markdown",
   "id": "7ec42687",
   "metadata": {
    "id": "6ML2J7rIUIko",
    "papermill": {
     "duration": 0.018871,
     "end_time": "2023-08-13T12:43:38.647957",
     "exception": false,
     "start_time": "2023-08-13T12:43:38.629086",
     "status": "completed"
    },
    "tags": []
   },
   "source": [
    "# Fake News Detection"
   ]
  },
  {
   "cell_type": "markdown",
   "id": "3994a37a",
   "metadata": {
    "id": "UwLZHVT8U6cf",
    "papermill": {
     "duration": 0.018682,
     "end_time": "2023-08-13T12:43:38.686085",
     "exception": false,
     "start_time": "2023-08-13T12:43:38.667403",
     "status": "completed"
    },
    "tags": []
   },
   "source": [
    "# Importing all Libraries and Dependencies"
   ]
  },
  {
   "cell_type": "code",
   "execution_count": 1,
   "id": "013a8e55",
   "metadata": {
    "execution": {
     "iopub.execute_input": "2023-08-13T12:43:38.726113Z",
     "iopub.status.busy": "2023-08-13T12:43:38.725255Z",
     "iopub.status.idle": "2023-08-13T12:43:41.399459Z",
     "shell.execute_reply": "2023-08-13T12:43:41.398149Z"
    },
    "id": "038QtF1jSxL1",
    "papermill": {
     "duration": 2.698267,
     "end_time": "2023-08-13T12:43:41.402876",
     "exception": false,
     "start_time": "2023-08-13T12:43:38.704609",
     "status": "completed"
    },
    "tags": []
   },
   "outputs": [],
   "source": [
    "import numpy as np\n",
    "import pandas as pd\n",
    "import re\n",
    "from nltk.corpus import stopwords\n",
    "from nltk.stem.porter import PorterStemmer\n",
    "from sklearn.feature_extraction.text import TfidfVectorizer\n",
    "from sklearn.model_selection import train_test_split\n",
    "from sklearn.linear_model import LogisticRegression\n",
    "from sklearn.svm import SVC\n",
    "import xgboost as xg\n",
    "from sklearn.neighbors import KNeighborsClassifier\n",
    "from sklearn.ensemble import RandomForestClassifier\n",
    "from sklearn.tree import DecisionTreeClassifier\n",
    "from sklearn.metrics import classification_report, accuracy_score, confusion_matrix\n",
    "from sklearn.metrics import accuracy_score\n",
    "import warnings\n",
    "warnings.filterwarnings(\"ignore\")"
   ]
  },
  {
   "cell_type": "markdown",
   "id": "4962e926",
   "metadata": {
    "papermill": {
     "duration": 0.019261,
     "end_time": "2023-08-13T12:43:41.442685",
     "exception": false,
     "start_time": "2023-08-13T12:43:41.423424",
     "status": "completed"
    },
    "tags": []
   },
   "source": [
    "## Downloading Stop Words For Pre-Processing"
   ]
  },
  {
   "cell_type": "code",
   "execution_count": 2,
   "id": "f4341d0b",
   "metadata": {
    "execution": {
     "iopub.execute_input": "2023-08-13T12:43:41.482571Z",
     "iopub.status.busy": "2023-08-13T12:43:41.482124Z",
     "iopub.status.idle": "2023-08-13T12:43:41.576917Z",
     "shell.execute_reply": "2023-08-13T12:43:41.575306Z"
    },
    "id": "59GmdDBmTGFj",
    "outputId": "f231be27-17ca-402b-8f87-8cb2bc1cc44f",
    "papermill": {
     "duration": 0.118458,
     "end_time": "2023-08-13T12:43:41.580053",
     "exception": false,
     "start_time": "2023-08-13T12:43:41.461595",
     "status": "completed"
    },
    "tags": []
   },
   "outputs": [
    {
     "name": "stderr",
     "output_type": "stream",
     "text": [
      "[nltk_data] Downloading package stopwords to\n",
      "[nltk_data]     C:\\Users\\parvs\\AppData\\Roaming\\nltk_data...\n",
      "[nltk_data]   Package stopwords is already up-to-date!\n"
     ]
    },
    {
     "data": {
      "text/plain": [
       "True"
      ]
     },
     "execution_count": 2,
     "metadata": {},
     "output_type": "execute_result"
    }
   ],
   "source": [
    "import nltk\n",
    "nltk.download('stopwords')"
   ]
  },
  {
   "cell_type": "markdown",
   "id": "6ef73b2f",
   "metadata": {
    "id": "sK42ECTvWguT",
    "papermill": {
     "duration": 0.018851,
     "end_time": "2023-08-13T12:43:41.618701",
     "exception": false,
     "start_time": "2023-08-13T12:43:41.599850",
     "status": "completed"
    },
    "tags": []
   },
   "source": [
    "# Data Pre-Processing"
   ]
  },
  {
   "cell_type": "code",
   "execution_count": 3,
   "id": "70e56d82",
   "metadata": {
    "execution": {
     "iopub.execute_input": "2023-08-13T12:43:41.659700Z",
     "iopub.status.busy": "2023-08-13T12:43:41.658626Z",
     "iopub.status.idle": "2023-08-13T12:43:44.871178Z",
     "shell.execute_reply": "2023-08-13T12:43:44.869663Z"
    },
    "id": "KS5I0zh2WldT",
    "papermill": {
     "duration": 3.236254,
     "end_time": "2023-08-13T12:43:44.874074",
     "exception": false,
     "start_time": "2023-08-13T12:43:41.637820",
     "status": "completed"
    },
    "tags": []
   },
   "outputs": [],
   "source": [
    "Fake_News_Data = pd.read_csv('Fake_News_Dataset.csv')"
   ]
  },
  {
   "cell_type": "code",
   "execution_count": 4,
   "id": "91f33842",
   "metadata": {
    "execution": {
     "iopub.execute_input": "2023-08-13T12:43:44.915124Z",
     "iopub.status.busy": "2023-08-13T12:43:44.914644Z",
     "iopub.status.idle": "2023-08-13T12:43:44.923970Z",
     "shell.execute_reply": "2023-08-13T12:43:44.922464Z"
    },
    "id": "bnPDVG3iW1T2",
    "outputId": "9f2b2541-712d-4719-ffcf-09fff7acbc0d",
    "papermill": {
     "duration": 0.033454,
     "end_time": "2023-08-13T12:43:44.926577",
     "exception": false,
     "start_time": "2023-08-13T12:43:44.893123",
     "status": "completed"
    },
    "tags": []
   },
   "outputs": [
    {
     "data": {
      "text/plain": [
       "(20800, 5)"
      ]
     },
     "execution_count": 4,
     "metadata": {},
     "output_type": "execute_result"
    }
   ],
   "source": [
    "Fake_News_Data.shape"
   ]
  },
  {
   "cell_type": "code",
   "execution_count": 5,
   "id": "8cf5345e",
   "metadata": {
    "execution": {
     "iopub.execute_input": "2023-08-13T12:43:44.968408Z",
     "iopub.status.busy": "2023-08-13T12:43:44.967978Z",
     "iopub.status.idle": "2023-08-13T12:43:44.994678Z",
     "shell.execute_reply": "2023-08-13T12:43:44.993055Z"
    },
    "id": "YIerEqCUXDd1",
    "outputId": "edf160ed-7f2a-4299-fdd9-727e92f28ba0",
    "papermill": {
     "duration": 0.050325,
     "end_time": "2023-08-13T12:43:44.997266",
     "exception": false,
     "start_time": "2023-08-13T12:43:44.946941",
     "status": "completed"
    },
    "tags": []
   },
   "outputs": [
    {
     "data": {
      "text/html": [
       "<div>\n",
       "<style scoped>\n",
       "    .dataframe tbody tr th:only-of-type {\n",
       "        vertical-align: middle;\n",
       "    }\n",
       "\n",
       "    .dataframe tbody tr th {\n",
       "        vertical-align: top;\n",
       "    }\n",
       "\n",
       "    .dataframe thead th {\n",
       "        text-align: right;\n",
       "    }\n",
       "</style>\n",
       "<table border=\"1\" class=\"dataframe\">\n",
       "  <thead>\n",
       "    <tr style=\"text-align: right;\">\n",
       "      <th></th>\n",
       "      <th>id</th>\n",
       "      <th>title</th>\n",
       "      <th>author</th>\n",
       "      <th>text</th>\n",
       "      <th>label</th>\n",
       "    </tr>\n",
       "  </thead>\n",
       "  <tbody>\n",
       "    <tr>\n",
       "      <th>0</th>\n",
       "      <td>0</td>\n",
       "      <td>House Dem Aide: We Didn’t Even See Comey’s Let...</td>\n",
       "      <td>Darrell Lucus</td>\n",
       "      <td>House Dem Aide: We Didn’t Even See Comey’s Let...</td>\n",
       "      <td>1</td>\n",
       "    </tr>\n",
       "    <tr>\n",
       "      <th>1</th>\n",
       "      <td>1</td>\n",
       "      <td>FLYNN: Hillary Clinton, Big Woman on Campus - ...</td>\n",
       "      <td>Daniel J. Flynn</td>\n",
       "      <td>Ever get the feeling your life circles the rou...</td>\n",
       "      <td>0</td>\n",
       "    </tr>\n",
       "    <tr>\n",
       "      <th>2</th>\n",
       "      <td>2</td>\n",
       "      <td>Why the Truth Might Get You Fired</td>\n",
       "      <td>Consortiumnews.com</td>\n",
       "      <td>Why the Truth Might Get You Fired October 29, ...</td>\n",
       "      <td>1</td>\n",
       "    </tr>\n",
       "    <tr>\n",
       "      <th>3</th>\n",
       "      <td>3</td>\n",
       "      <td>15 Civilians Killed In Single US Airstrike Hav...</td>\n",
       "      <td>Jessica Purkiss</td>\n",
       "      <td>Videos 15 Civilians Killed In Single US Airstr...</td>\n",
       "      <td>1</td>\n",
       "    </tr>\n",
       "    <tr>\n",
       "      <th>4</th>\n",
       "      <td>4</td>\n",
       "      <td>Iranian woman jailed for fictional unpublished...</td>\n",
       "      <td>Howard Portnoy</td>\n",
       "      <td>Print \\nAn Iranian woman has been sentenced to...</td>\n",
       "      <td>1</td>\n",
       "    </tr>\n",
       "  </tbody>\n",
       "</table>\n",
       "</div>"
      ],
      "text/plain": [
       "   id                                              title              author  \\\n",
       "0   0  House Dem Aide: We Didn’t Even See Comey’s Let...       Darrell Lucus   \n",
       "1   1  FLYNN: Hillary Clinton, Big Woman on Campus - ...     Daniel J. Flynn   \n",
       "2   2                  Why the Truth Might Get You Fired  Consortiumnews.com   \n",
       "3   3  15 Civilians Killed In Single US Airstrike Hav...     Jessica Purkiss   \n",
       "4   4  Iranian woman jailed for fictional unpublished...      Howard Portnoy   \n",
       "\n",
       "                                                text  label  \n",
       "0  House Dem Aide: We Didn’t Even See Comey’s Let...      1  \n",
       "1  Ever get the feeling your life circles the rou...      0  \n",
       "2  Why the Truth Might Get You Fired October 29, ...      1  \n",
       "3  Videos 15 Civilians Killed In Single US Airstr...      1  \n",
       "4  Print \\nAn Iranian woman has been sentenced to...      1  "
      ]
     },
     "execution_count": 5,
     "metadata": {},
     "output_type": "execute_result"
    }
   ],
   "source": [
    "Fake_News_Data.head()"
   ]
  },
  {
   "cell_type": "markdown",
   "id": "bcaf20f6",
   "metadata": {
    "papermill": {
     "duration": 0.018858,
     "end_time": "2023-08-13T12:43:45.035502",
     "exception": false,
     "start_time": "2023-08-13T12:43:45.016644",
     "status": "completed"
    },
    "tags": []
   },
   "source": [
    "### Handling Null Values"
   ]
  },
  {
   "cell_type": "code",
   "execution_count": 6,
   "id": "a82ee76d",
   "metadata": {
    "execution": {
     "iopub.execute_input": "2023-08-13T12:43:45.075984Z",
     "iopub.status.busy": "2023-08-13T12:43:45.075573Z",
     "iopub.status.idle": "2023-08-13T12:43:45.110020Z",
     "shell.execute_reply": "2023-08-13T12:43:45.108879Z"
    },
    "id": "VrXAVnFGXNKw",
    "outputId": "1d6316c4-63dc-420d-9277-ec68fb9b5b30",
    "papermill": {
     "duration": 0.057445,
     "end_time": "2023-08-13T12:43:45.112504",
     "exception": false,
     "start_time": "2023-08-13T12:43:45.055059",
     "status": "completed"
    },
    "tags": []
   },
   "outputs": [
    {
     "data": {
      "text/plain": [
       "id           0\n",
       "title      558\n",
       "author    1957\n",
       "text        39\n",
       "label        0\n",
       "dtype: int64"
      ]
     },
     "execution_count": 6,
     "metadata": {},
     "output_type": "execute_result"
    }
   ],
   "source": [
    "Fake_News_Data.isnull().sum()"
   ]
  },
  {
   "cell_type": "code",
   "execution_count": 7,
   "id": "e21f293f",
   "metadata": {
    "execution": {
     "iopub.execute_input": "2023-08-13T12:43:45.153848Z",
     "iopub.status.busy": "2023-08-13T12:43:45.152891Z",
     "iopub.status.idle": "2023-08-13T12:43:45.186015Z",
     "shell.execute_reply": "2023-08-13T12:43:45.184591Z"
    },
    "id": "f0WfAsJ8X5kc",
    "papermill": {
     "duration": 0.056962,
     "end_time": "2023-08-13T12:43:45.188864",
     "exception": false,
     "start_time": "2023-08-13T12:43:45.131902",
     "status": "completed"
    },
    "tags": []
   },
   "outputs": [],
   "source": [
    "Fake_News_Data = Fake_News_Data.fillna('')"
   ]
  },
  {
   "cell_type": "code",
   "execution_count": 8,
   "id": "383ab5b6",
   "metadata": {},
   "outputs": [
    {
     "data": {
      "text/plain": [
       "id        0\n",
       "title     0\n",
       "author    0\n",
       "text      0\n",
       "label     0\n",
       "dtype: int64"
      ]
     },
     "execution_count": 8,
     "metadata": {},
     "output_type": "execute_result"
    }
   ],
   "source": [
    "Fake_News_Data.isnull().sum()"
   ]
  },
  {
   "cell_type": "markdown",
   "id": "e32c144f",
   "metadata": {},
   "source": [
    "### Dropping Columns\n"
   ]
  },
  {
   "cell_type": "code",
   "execution_count": 9,
   "id": "03c31021",
   "metadata": {},
   "outputs": [],
   "source": [
    "Fake_News_Data = Fake_News_Data.drop(['id','text'], axis=1)"
   ]
  },
  {
   "cell_type": "markdown",
   "id": "1642f674",
   "metadata": {},
   "source": [
    "### Adding two columns  "
   ]
  },
  {
   "cell_type": "code",
   "execution_count": 10,
   "id": "449d0ed8",
   "metadata": {
    "execution": {
     "iopub.execute_input": "2023-08-13T12:43:45.269742Z",
     "iopub.status.busy": "2023-08-13T12:43:45.269071Z",
     "iopub.status.idle": "2023-08-13T12:43:45.286877Z",
     "shell.execute_reply": "2023-08-13T12:43:45.285909Z"
    },
    "id": "S9bloXWIY_YD",
    "papermill": {
     "duration": 0.043175,
     "end_time": "2023-08-13T12:43:45.290246",
     "exception": false,
     "start_time": "2023-08-13T12:43:45.247071",
     "status": "completed"
    },
    "tags": []
   },
   "outputs": [],
   "source": [
    "Fake_News_Data['content'] = Fake_News_Data['author']+' '+Fake_News_Data['title']"
   ]
  },
  {
   "cell_type": "code",
   "execution_count": 11,
   "id": "a92f7c88",
   "metadata": {
    "execution": {
     "iopub.execute_input": "2023-08-13T12:43:45.331598Z",
     "iopub.status.busy": "2023-08-13T12:43:45.330622Z",
     "iopub.status.idle": "2023-08-13T12:43:45.339081Z",
     "shell.execute_reply": "2023-08-13T12:43:45.337770Z"
    },
    "id": "dKnG6-pRZVOI",
    "outputId": "9ad68c46-24e1-4f68-e8f6-80161ca6ce6a",
    "papermill": {
     "duration": 0.031989,
     "end_time": "2023-08-13T12:43:45.341783",
     "exception": false,
     "start_time": "2023-08-13T12:43:45.309794",
     "status": "completed"
    },
    "tags": []
   },
   "outputs": [
    {
     "name": "stdout",
     "output_type": "stream",
     "text": [
      "0        Darrell Lucus House Dem Aide: We Didn’t Even S...\n",
      "1        Daniel J. Flynn FLYNN: Hillary Clinton, Big Wo...\n",
      "2        Consortiumnews.com Why the Truth Might Get You...\n",
      "3        Jessica Purkiss 15 Civilians Killed In Single ...\n",
      "4        Howard Portnoy Iranian woman jailed for fictio...\n",
      "                               ...                        \n",
      "20795    Jerome Hudson Rapper T.I.: Trump a ’Poster Chi...\n",
      "20796    Benjamin Hoffman N.F.L. Playoffs: Schedule, Ma...\n",
      "20797    Michael J. de la Merced and Rachel Abrams Macy...\n",
      "20798    Alex Ansary NATO, Russia To Hold Parallel Exer...\n",
      "20799              David Swanson What Keeps the F-35 Alive\n",
      "Name: content, Length: 20800, dtype: object\n"
     ]
    }
   ],
   "source": [
    "print(Fake_News_Data['content'])"
   ]
  },
  {
   "cell_type": "code",
   "execution_count": 12,
   "id": "a7b598e3",
   "metadata": {},
   "outputs": [
    {
     "data": {
      "text/html": [
       "<div>\n",
       "<style scoped>\n",
       "    .dataframe tbody tr th:only-of-type {\n",
       "        vertical-align: middle;\n",
       "    }\n",
       "\n",
       "    .dataframe tbody tr th {\n",
       "        vertical-align: top;\n",
       "    }\n",
       "\n",
       "    .dataframe thead th {\n",
       "        text-align: right;\n",
       "    }\n",
       "</style>\n",
       "<table border=\"1\" class=\"dataframe\">\n",
       "  <thead>\n",
       "    <tr style=\"text-align: right;\">\n",
       "      <th></th>\n",
       "      <th>title</th>\n",
       "      <th>author</th>\n",
       "      <th>label</th>\n",
       "      <th>content</th>\n",
       "    </tr>\n",
       "  </thead>\n",
       "  <tbody>\n",
       "    <tr>\n",
       "      <th>0</th>\n",
       "      <td>House Dem Aide: We Didn’t Even See Comey’s Let...</td>\n",
       "      <td>Darrell Lucus</td>\n",
       "      <td>1</td>\n",
       "      <td>Darrell Lucus House Dem Aide: We Didn’t Even S...</td>\n",
       "    </tr>\n",
       "    <tr>\n",
       "      <th>1</th>\n",
       "      <td>FLYNN: Hillary Clinton, Big Woman on Campus - ...</td>\n",
       "      <td>Daniel J. Flynn</td>\n",
       "      <td>0</td>\n",
       "      <td>Daniel J. Flynn FLYNN: Hillary Clinton, Big Wo...</td>\n",
       "    </tr>\n",
       "    <tr>\n",
       "      <th>2</th>\n",
       "      <td>Why the Truth Might Get You Fired</td>\n",
       "      <td>Consortiumnews.com</td>\n",
       "      <td>1</td>\n",
       "      <td>Consortiumnews.com Why the Truth Might Get You...</td>\n",
       "    </tr>\n",
       "    <tr>\n",
       "      <th>3</th>\n",
       "      <td>15 Civilians Killed In Single US Airstrike Hav...</td>\n",
       "      <td>Jessica Purkiss</td>\n",
       "      <td>1</td>\n",
       "      <td>Jessica Purkiss 15 Civilians Killed In Single ...</td>\n",
       "    </tr>\n",
       "    <tr>\n",
       "      <th>4</th>\n",
       "      <td>Iranian woman jailed for fictional unpublished...</td>\n",
       "      <td>Howard Portnoy</td>\n",
       "      <td>1</td>\n",
       "      <td>Howard Portnoy Iranian woman jailed for fictio...</td>\n",
       "    </tr>\n",
       "  </tbody>\n",
       "</table>\n",
       "</div>"
      ],
      "text/plain": [
       "                                               title              author  \\\n",
       "0  House Dem Aide: We Didn’t Even See Comey’s Let...       Darrell Lucus   \n",
       "1  FLYNN: Hillary Clinton, Big Woman on Campus - ...     Daniel J. Flynn   \n",
       "2                  Why the Truth Might Get You Fired  Consortiumnews.com   \n",
       "3  15 Civilians Killed In Single US Airstrike Hav...     Jessica Purkiss   \n",
       "4  Iranian woman jailed for fictional unpublished...      Howard Portnoy   \n",
       "\n",
       "   label                                            content  \n",
       "0      1  Darrell Lucus House Dem Aide: We Didn’t Even S...  \n",
       "1      0  Daniel J. Flynn FLYNN: Hillary Clinton, Big Wo...  \n",
       "2      1  Consortiumnews.com Why the Truth Might Get You...  \n",
       "3      1  Jessica Purkiss 15 Civilians Killed In Single ...  \n",
       "4      1  Howard Portnoy Iranian woman jailed for fictio...  "
      ]
     },
     "execution_count": 12,
     "metadata": {},
     "output_type": "execute_result"
    }
   ],
   "source": [
    "Fake_News_Data.head()"
   ]
  },
  {
   "cell_type": "code",
   "execution_count": 13,
   "id": "aad51c84",
   "metadata": {},
   "outputs": [
    {
     "data": {
      "text/plain": [
       "Index(['title', 'author', 'label', 'content'], dtype='object')"
      ]
     },
     "execution_count": 13,
     "metadata": {},
     "output_type": "execute_result"
    }
   ],
   "source": [
    "Fake_News_Data.columns"
   ]
  },
  {
   "cell_type": "code",
   "execution_count": 14,
   "id": "969274fe",
   "metadata": {},
   "outputs": [],
   "source": [
    "Fake_News_Data = Fake_News_Data.drop(['author','title'], axis=1)"
   ]
  },
  {
   "cell_type": "code",
   "execution_count": 15,
   "id": "abc29497",
   "metadata": {},
   "outputs": [
    {
     "data": {
      "text/html": [
       "<div>\n",
       "<style scoped>\n",
       "    .dataframe tbody tr th:only-of-type {\n",
       "        vertical-align: middle;\n",
       "    }\n",
       "\n",
       "    .dataframe tbody tr th {\n",
       "        vertical-align: top;\n",
       "    }\n",
       "\n",
       "    .dataframe thead th {\n",
       "        text-align: right;\n",
       "    }\n",
       "</style>\n",
       "<table border=\"1\" class=\"dataframe\">\n",
       "  <thead>\n",
       "    <tr style=\"text-align: right;\">\n",
       "      <th></th>\n",
       "      <th>label</th>\n",
       "      <th>content</th>\n",
       "    </tr>\n",
       "  </thead>\n",
       "  <tbody>\n",
       "    <tr>\n",
       "      <th>0</th>\n",
       "      <td>1</td>\n",
       "      <td>Darrell Lucus House Dem Aide: We Didn’t Even S...</td>\n",
       "    </tr>\n",
       "    <tr>\n",
       "      <th>1</th>\n",
       "      <td>0</td>\n",
       "      <td>Daniel J. Flynn FLYNN: Hillary Clinton, Big Wo...</td>\n",
       "    </tr>\n",
       "    <tr>\n",
       "      <th>2</th>\n",
       "      <td>1</td>\n",
       "      <td>Consortiumnews.com Why the Truth Might Get You...</td>\n",
       "    </tr>\n",
       "    <tr>\n",
       "      <th>3</th>\n",
       "      <td>1</td>\n",
       "      <td>Jessica Purkiss 15 Civilians Killed In Single ...</td>\n",
       "    </tr>\n",
       "    <tr>\n",
       "      <th>4</th>\n",
       "      <td>1</td>\n",
       "      <td>Howard Portnoy Iranian woman jailed for fictio...</td>\n",
       "    </tr>\n",
       "  </tbody>\n",
       "</table>\n",
       "</div>"
      ],
      "text/plain": [
       "   label                                            content\n",
       "0      1  Darrell Lucus House Dem Aide: We Didn’t Even S...\n",
       "1      0  Daniel J. Flynn FLYNN: Hillary Clinton, Big Wo...\n",
       "2      1  Consortiumnews.com Why the Truth Might Get You...\n",
       "3      1  Jessica Purkiss 15 Civilians Killed In Single ...\n",
       "4      1  Howard Portnoy Iranian woman jailed for fictio..."
      ]
     },
     "execution_count": 15,
     "metadata": {},
     "output_type": "execute_result"
    }
   ],
   "source": [
    "Fake_News_Data.head()"
   ]
  },
  {
   "cell_type": "markdown",
   "id": "c1dd5716",
   "metadata": {
    "papermill": {
     "duration": 0.019682,
     "end_time": "2023-08-13T12:43:45.381047",
     "exception": false,
     "start_time": "2023-08-13T12:43:45.361365",
     "status": "completed"
    },
    "tags": []
   },
   "source": [
    "# Seperating Features and Target Variable"
   ]
  },
  {
   "cell_type": "code",
   "execution_count": 16,
   "id": "35c59502",
   "metadata": {
    "execution": {
     "iopub.execute_input": "2023-08-13T12:43:45.423713Z",
     "iopub.status.busy": "2023-08-13T12:43:45.423291Z",
     "iopub.status.idle": "2023-08-13T12:43:45.440761Z",
     "shell.execute_reply": "2023-08-13T12:43:45.439786Z"
    },
    "id": "YYBWbsMhZtZB",
    "papermill": {
     "duration": 0.041303,
     "end_time": "2023-08-13T12:43:45.443181",
     "exception": false,
     "start_time": "2023-08-13T12:43:45.401878",
     "status": "completed"
    },
    "tags": []
   },
   "outputs": [],
   "source": [
    "X = Fake_News_Data.drop(columns='label', axis=1)\n",
    "Y = Fake_News_Data['label']"
   ]
  },
  {
   "cell_type": "code",
   "execution_count": 17,
   "id": "2e943fc9",
   "metadata": {
    "execution": {
     "iopub.execute_input": "2023-08-13T12:43:45.485961Z",
     "iopub.status.busy": "2023-08-13T12:43:45.485091Z",
     "iopub.status.idle": "2023-08-13T12:43:45.496944Z",
     "shell.execute_reply": "2023-08-13T12:43:45.496013Z"
    },
    "id": "E1v1sKG5a5C4",
    "outputId": "0c83f415-27a7-45fc-95e2-5cda61fd1b92",
    "papermill": {
     "duration": 0.036309,
     "end_time": "2023-08-13T12:43:45.499616",
     "exception": false,
     "start_time": "2023-08-13T12:43:45.463307",
     "status": "completed"
    },
    "tags": []
   },
   "outputs": [
    {
     "name": "stdout",
     "output_type": "stream",
     "text": [
      "                                                 content\n",
      "0      Darrell Lucus House Dem Aide: We Didn’t Even S...\n",
      "1      Daniel J. Flynn FLYNN: Hillary Clinton, Big Wo...\n",
      "2      Consortiumnews.com Why the Truth Might Get You...\n",
      "3      Jessica Purkiss 15 Civilians Killed In Single ...\n",
      "4      Howard Portnoy Iranian woman jailed for fictio...\n",
      "...                                                  ...\n",
      "20795  Jerome Hudson Rapper T.I.: Trump a ’Poster Chi...\n",
      "20796  Benjamin Hoffman N.F.L. Playoffs: Schedule, Ma...\n",
      "20797  Michael J. de la Merced and Rachel Abrams Macy...\n",
      "20798  Alex Ansary NATO, Russia To Hold Parallel Exer...\n",
      "20799            David Swanson What Keeps the F-35 Alive\n",
      "\n",
      "[20800 rows x 1 columns]\n",
      "0        1\n",
      "1        0\n",
      "2        1\n",
      "3        1\n",
      "4        1\n",
      "        ..\n",
      "20795    0\n",
      "20796    0\n",
      "20797    0\n",
      "20798    1\n",
      "20799    1\n",
      "Name: label, Length: 20800, dtype: int64\n"
     ]
    }
   ],
   "source": [
    "print(X)\n",
    "print(Y)"
   ]
  },
  {
   "cell_type": "markdown",
   "id": "0491a433",
   "metadata": {
    "id": "mB6ebYSpbNpy",
    "papermill": {
     "duration": 0.019456,
     "end_time": "2023-08-13T12:43:45.539174",
     "exception": false,
     "start_time": "2023-08-13T12:43:45.519718",
     "status": "completed"
    },
    "tags": []
   },
   "source": [
    "# Doing Stemming Process to clean our Data"
   ]
  },
  {
   "cell_type": "code",
   "execution_count": 18,
   "id": "56476c5f",
   "metadata": {
    "execution": {
     "iopub.execute_input": "2023-08-13T12:43:45.580911Z",
     "iopub.status.busy": "2023-08-13T12:43:45.580474Z",
     "iopub.status.idle": "2023-08-13T12:43:45.585911Z",
     "shell.execute_reply": "2023-08-13T12:43:45.584638Z"
    },
    "id": "tp10x-zfmtvq",
    "papermill": {
     "duration": 0.029905,
     "end_time": "2023-08-13T12:43:45.588937",
     "exception": false,
     "start_time": "2023-08-13T12:43:45.559032",
     "status": "completed"
    },
    "tags": []
   },
   "outputs": [],
   "source": [
    "port_stem = PorterStemmer()"
   ]
  },
  {
   "cell_type": "code",
   "execution_count": 19,
   "id": "2d174a2a",
   "metadata": {
    "execution": {
     "iopub.execute_input": "2023-08-13T12:43:45.633005Z",
     "iopub.status.busy": "2023-08-13T12:43:45.632573Z",
     "iopub.status.idle": "2023-08-13T12:43:45.640426Z",
     "shell.execute_reply": "2023-08-13T12:43:45.638965Z"
    },
    "id": "stRY0wNTbmNk",
    "papermill": {
     "duration": 0.032824,
     "end_time": "2023-08-13T12:43:45.643701",
     "exception": false,
     "start_time": "2023-08-13T12:43:45.610877",
     "status": "completed"
    },
    "tags": []
   },
   "outputs": [],
   "source": [
    "# stemming is used to get only the root word\n",
    "\n",
    "def stemming_function(content):\n",
    "    stemmed_content = re.sub('[^a-zA-Z]',' ',content)\n",
    "    stemmed_content = stemmed_content.lower()\n",
    "    stemmed_content = stemmed_content.split()\n",
    "    stemmed_content = [port_stem.stem(word) for word in stemmed_content if not word in stopwords.words('english')]\n",
    "    stemmed_content = ' '.join(stemmed_content)\n",
    "    return stemmed_content"
   ]
  },
  {
   "cell_type": "code",
   "execution_count": 20,
   "id": "f1bfa2bf",
   "metadata": {
    "execution": {
     "iopub.execute_input": "2023-08-13T12:43:45.686635Z",
     "iopub.status.busy": "2023-08-13T12:43:45.686214Z",
     "iopub.status.idle": "2023-08-13T12:44:36.639723Z",
     "shell.execute_reply": "2023-08-13T12:44:36.638575Z"
    },
    "id": "XaSDhafgnEys",
    "papermill": {
     "duration": 50.978408,
     "end_time": "2023-08-13T12:44:36.642791",
     "exception": false,
     "start_time": "2023-08-13T12:43:45.664383",
     "status": "completed"
    },
    "tags": []
   },
   "outputs": [],
   "source": [
    "Fake_News_Data['content'] = Fake_News_Data['content'].apply(stemming_function)"
   ]
  },
  {
   "cell_type": "code",
   "execution_count": 21,
   "id": "c504d62f",
   "metadata": {
    "execution": {
     "iopub.execute_input": "2023-08-13T12:44:36.685093Z",
     "iopub.status.busy": "2023-08-13T12:44:36.684699Z",
     "iopub.status.idle": "2023-08-13T12:44:36.692128Z",
     "shell.execute_reply": "2023-08-13T12:44:36.690455Z"
    },
    "id": "BbCc9-vRnrp4",
    "outputId": "9eee6a63-837a-43e5-ab14-caf50451badd",
    "papermill": {
     "duration": 0.032724,
     "end_time": "2023-08-13T12:44:36.695981",
     "exception": false,
     "start_time": "2023-08-13T12:44:36.663257",
     "status": "completed"
    },
    "tags": []
   },
   "outputs": [
    {
     "name": "stdout",
     "output_type": "stream",
     "text": [
      "0        darrel lucu hous dem aid even see comey letter...\n",
      "1        daniel j flynn flynn hillari clinton big woman...\n",
      "2                   consortiumnew com truth might get fire\n",
      "3        jessica purkiss civilian kill singl us airstri...\n",
      "4        howard portnoy iranian woman jail fiction unpu...\n",
      "                               ...                        \n",
      "20795    jerom hudson rapper trump poster child white s...\n",
      "20796    benjamin hoffman n f l playoff schedul matchup...\n",
      "20797    michael j de la merc rachel abram maci said re...\n",
      "20798    alex ansari nato russia hold parallel exercis ...\n",
      "20799                            david swanson keep f aliv\n",
      "Name: content, Length: 20800, dtype: object\n"
     ]
    }
   ],
   "source": [
    "# Printing stemmed output\n",
    "\n",
    "print(Fake_News_Data['content'])"
   ]
  },
  {
   "cell_type": "code",
   "execution_count": 22,
   "id": "9b4d6055",
   "metadata": {
    "execution": {
     "iopub.execute_input": "2023-08-13T12:44:36.740281Z",
     "iopub.status.busy": "2023-08-13T12:44:36.739873Z",
     "iopub.status.idle": "2023-08-13T12:44:36.749885Z",
     "shell.execute_reply": "2023-08-13T12:44:36.748640Z"
    },
    "id": "N8wn0-Dbn8xV",
    "papermill": {
     "duration": 0.035645,
     "end_time": "2023-08-13T12:44:36.752456",
     "exception": false,
     "start_time": "2023-08-13T12:44:36.716811",
     "status": "completed"
    },
    "tags": []
   },
   "outputs": [],
   "source": [
    "X = Fake_News_Data['content'].values\n",
    "Y = Fake_News_Data['label'].values"
   ]
  },
  {
   "cell_type": "code",
   "execution_count": 23,
   "id": "c5e318fa",
   "metadata": {
    "execution": {
     "iopub.execute_input": "2023-08-13T12:44:36.795079Z",
     "iopub.status.busy": "2023-08-13T12:44:36.794649Z",
     "iopub.status.idle": "2023-08-13T12:44:36.800933Z",
     "shell.execute_reply": "2023-08-13T12:44:36.799588Z"
    },
    "id": "kSWGxb1roK-i",
    "outputId": "802cdbbe-320f-4cbb-9035-592785415c10",
    "papermill": {
     "duration": 0.030118,
     "end_time": "2023-08-13T12:44:36.803300",
     "exception": false,
     "start_time": "2023-08-13T12:44:36.773182",
     "status": "completed"
    },
    "tags": []
   },
   "outputs": [
    {
     "name": "stdout",
     "output_type": "stream",
     "text": [
      "['darrel lucu hous dem aid even see comey letter jason chaffetz tweet'\n",
      " 'daniel j flynn flynn hillari clinton big woman campu breitbart'\n",
      " 'consortiumnew com truth might get fire' ...\n",
      " 'michael j de la merc rachel abram maci said receiv takeov approach hudson bay new york time'\n",
      " 'alex ansari nato russia hold parallel exercis balkan'\n",
      " 'david swanson keep f aliv']\n"
     ]
    }
   ],
   "source": [
    "print(X)"
   ]
  },
  {
   "cell_type": "code",
   "execution_count": 24,
   "id": "c3dc9e17",
   "metadata": {
    "execution": {
     "iopub.execute_input": "2023-08-13T12:44:36.847709Z",
     "iopub.status.busy": "2023-08-13T12:44:36.847289Z",
     "iopub.status.idle": "2023-08-13T12:44:36.852608Z",
     "shell.execute_reply": "2023-08-13T12:44:36.851552Z"
    },
    "id": "L_C-kEwJoP6L",
    "outputId": "ef21ab13-ced1-4b28-93b0-fee6f34f45c6",
    "papermill": {
     "duration": 0.030717,
     "end_time": "2023-08-13T12:44:36.855792",
     "exception": false,
     "start_time": "2023-08-13T12:44:36.825075",
     "status": "completed"
    },
    "tags": []
   },
   "outputs": [
    {
     "name": "stdout",
     "output_type": "stream",
     "text": [
      "[1 0 1 ... 0 1 1]\n"
     ]
    }
   ],
   "source": [
    "print(Y)"
   ]
  },
  {
   "cell_type": "markdown",
   "id": "98ec8744",
   "metadata": {
    "id": "1T0OiN1Hp14E",
    "papermill": {
     "duration": 0.020096,
     "end_time": "2023-08-13T12:44:36.897011",
     "exception": false,
     "start_time": "2023-08-13T12:44:36.876915",
     "status": "completed"
    },
    "tags": []
   },
   "source": [
    "# Applying Vectorizer"
   ]
  },
  {
   "cell_type": "code",
   "execution_count": 25,
   "id": "b5907516",
   "metadata": {
    "execution": {
     "iopub.execute_input": "2023-08-13T12:44:36.941084Z",
     "iopub.status.busy": "2023-08-13T12:44:36.940528Z",
     "iopub.status.idle": "2023-08-13T12:44:37.750185Z",
     "shell.execute_reply": "2023-08-13T12:44:37.749054Z"
    },
    "id": "hO0VLrHhp-V3",
    "papermill": {
     "duration": 0.836294,
     "end_time": "2023-08-13T12:44:37.753490",
     "exception": false,
     "start_time": "2023-08-13T12:44:36.917196",
     "status": "completed"
    },
    "tags": []
   },
   "outputs": [],
   "source": [
    "vectorizer = TfidfVectorizer()\n",
    "vectorizer.fit(X)\n",
    "\n",
    "X = vectorizer.transform(X)"
   ]
  },
  {
   "cell_type": "code",
   "execution_count": 26,
   "id": "0ca47d8c",
   "metadata": {
    "execution": {
     "iopub.execute_input": "2023-08-13T12:44:37.796994Z",
     "iopub.status.busy": "2023-08-13T12:44:37.796579Z",
     "iopub.status.idle": "2023-08-13T12:44:37.807982Z",
     "shell.execute_reply": "2023-08-13T12:44:37.805964Z"
    },
    "id": "liWR-BjOqVIz",
    "outputId": "d28b6e2e-32e5-44e3-dfba-f802edf08e74",
    "papermill": {
     "duration": 0.036114,
     "end_time": "2023-08-13T12:44:37.810883",
     "exception": false,
     "start_time": "2023-08-13T12:44:37.774769",
     "status": "completed"
    },
    "tags": []
   },
   "outputs": [
    {
     "name": "stdout",
     "output_type": "stream",
     "text": [
      "  (0, 15686)\t0.28485063562728646\n",
      "  (0, 13473)\t0.2565896679337957\n",
      "  (0, 8909)\t0.3635963806326075\n",
      "  (0, 8630)\t0.29212514087043684\n",
      "  (0, 7692)\t0.24785219520671603\n",
      "  (0, 7005)\t0.21874169089359144\n",
      "  (0, 4973)\t0.233316966909351\n",
      "  (0, 3792)\t0.2705332480845492\n",
      "  (0, 3600)\t0.3598939188262559\n",
      "  (0, 2959)\t0.2468450128533713\n",
      "  (0, 2483)\t0.3676519686797209\n",
      "  (0, 267)\t0.27010124977708766\n",
      "  (1, 16799)\t0.30071745655510157\n",
      "  (1, 6816)\t0.1904660198296849\n",
      "  (1, 5503)\t0.7143299355715573\n",
      "  (1, 3568)\t0.26373768806048464\n",
      "  (1, 2813)\t0.19094574062359204\n",
      "  (1, 2223)\t0.3827320386859759\n",
      "  (1, 1894)\t0.15521974226349364\n",
      "  (1, 1497)\t0.2939891562094648\n",
      "  (2, 15611)\t0.41544962664721613\n",
      "  (2, 9620)\t0.49351492943649944\n",
      "  (2, 5968)\t0.3474613386728292\n",
      "  (2, 5389)\t0.3866530551182615\n",
      "  (2, 3103)\t0.46097489583229645\n",
      "  :\t:\n",
      "  (20797, 13122)\t0.2482526352197606\n",
      "  (20797, 12344)\t0.27263457663336677\n",
      "  (20797, 12138)\t0.24778257724396507\n",
      "  (20797, 10306)\t0.08038079000566466\n",
      "  (20797, 9588)\t0.174553480255222\n",
      "  (20797, 9518)\t0.2954204003420313\n",
      "  (20797, 8988)\t0.36160868928090795\n",
      "  (20797, 8364)\t0.22322585870464118\n",
      "  (20797, 7042)\t0.21799048897828688\n",
      "  (20797, 3643)\t0.21155500613623743\n",
      "  (20797, 1287)\t0.33538056804139865\n",
      "  (20797, 699)\t0.30685846079762347\n",
      "  (20797, 43)\t0.29710241860700626\n",
      "  (20798, 13046)\t0.22363267488270608\n",
      "  (20798, 11052)\t0.4460515589182236\n",
      "  (20798, 10177)\t0.3192496370187028\n",
      "  (20798, 6889)\t0.32496285694299426\n",
      "  (20798, 5032)\t0.4083701450239529\n",
      "  (20798, 1125)\t0.4460515589182236\n",
      "  (20798, 588)\t0.3112141524638974\n",
      "  (20798, 350)\t0.28446937819072576\n",
      "  (20799, 14852)\t0.5677577267055112\n",
      "  (20799, 8036)\t0.45983893273780013\n",
      "  (20799, 3623)\t0.37927626273066584\n",
      "  (20799, 377)\t0.5677577267055112\n"
     ]
    }
   ],
   "source": [
    "print(X)"
   ]
  },
  {
   "cell_type": "markdown",
   "id": "8f41165f",
   "metadata": {
    "id": "n0S2DqiUqbD6",
    "papermill": {
     "duration": 0.019803,
     "end_time": "2023-08-13T12:44:37.851686",
     "exception": false,
     "start_time": "2023-08-13T12:44:37.831883",
     "status": "completed"
    },
    "tags": []
   },
   "source": [
    "# Using Train Test Split"
   ]
  },
  {
   "cell_type": "code",
   "execution_count": 27,
   "id": "4b44a215",
   "metadata": {
    "execution": {
     "iopub.execute_input": "2023-08-13T12:44:37.898605Z",
     "iopub.status.busy": "2023-08-13T12:44:37.897346Z",
     "iopub.status.idle": "2023-08-13T12:44:37.918968Z",
     "shell.execute_reply": "2023-08-13T12:44:37.917712Z"
    },
    "id": "MmqHdTBxqi-L",
    "papermill": {
     "duration": 0.048779,
     "end_time": "2023-08-13T12:44:37.921925",
     "exception": false,
     "start_time": "2023-08-13T12:44:37.873146",
     "status": "completed"
    },
    "tags": []
   },
   "outputs": [],
   "source": [
    "X_train, X_test, Y_train, Y_test = train_test_split(X, Y, test_size=0.2, stratify=Y, random_state=2)"
   ]
  },
  {
   "cell_type": "code",
   "execution_count": 28,
   "id": "35d3a30d",
   "metadata": {
    "execution": {
     "iopub.execute_input": "2023-08-13T12:44:37.965895Z",
     "iopub.status.busy": "2023-08-13T12:44:37.965087Z",
     "iopub.status.idle": "2023-08-13T12:44:37.971895Z",
     "shell.execute_reply": "2023-08-13T12:44:37.971039Z"
    },
    "papermill": {
     "duration": 0.031959,
     "end_time": "2023-08-13T12:44:37.974462",
     "exception": false,
     "start_time": "2023-08-13T12:44:37.942503",
     "status": "completed"
    },
    "tags": []
   },
   "outputs": [
    {
     "data": {
      "text/plain": [
       "(16640, 17128)"
      ]
     },
     "execution_count": 28,
     "metadata": {},
     "output_type": "execute_result"
    }
   ],
   "source": [
    "X_train.shape"
   ]
  },
  {
   "cell_type": "code",
   "execution_count": 29,
   "id": "4473ac4c",
   "metadata": {
    "execution": {
     "iopub.execute_input": "2023-08-13T12:44:38.017358Z",
     "iopub.status.busy": "2023-08-13T12:44:38.016585Z",
     "iopub.status.idle": "2023-08-13T12:44:38.024590Z",
     "shell.execute_reply": "2023-08-13T12:44:38.023357Z"
    },
    "papermill": {
     "duration": 0.032364,
     "end_time": "2023-08-13T12:44:38.027187",
     "exception": false,
     "start_time": "2023-08-13T12:44:37.994823",
     "status": "completed"
    },
    "tags": []
   },
   "outputs": [
    {
     "data": {
      "text/plain": [
       "(4160, 17128)"
      ]
     },
     "execution_count": 29,
     "metadata": {},
     "output_type": "execute_result"
    }
   ],
   "source": [
    "X_test.shape"
   ]
  },
  {
   "cell_type": "code",
   "execution_count": 30,
   "id": "8deb2ff2",
   "metadata": {
    "execution": {
     "iopub.execute_input": "2023-08-13T12:44:38.070418Z",
     "iopub.status.busy": "2023-08-13T12:44:38.069585Z",
     "iopub.status.idle": "2023-08-13T12:44:38.076595Z",
     "shell.execute_reply": "2023-08-13T12:44:38.075537Z"
    },
    "papermill": {
     "duration": 0.031311,
     "end_time": "2023-08-13T12:44:38.078961",
     "exception": false,
     "start_time": "2023-08-13T12:44:38.047650",
     "status": "completed"
    },
    "tags": []
   },
   "outputs": [
    {
     "data": {
      "text/plain": [
       "(16640,)"
      ]
     },
     "execution_count": 30,
     "metadata": {},
     "output_type": "execute_result"
    }
   ],
   "source": [
    "Y_train.shape"
   ]
  },
  {
   "cell_type": "code",
   "execution_count": 31,
   "id": "1afadab3",
   "metadata": {
    "execution": {
     "iopub.execute_input": "2023-08-13T12:44:38.122361Z",
     "iopub.status.busy": "2023-08-13T12:44:38.121952Z",
     "iopub.status.idle": "2023-08-13T12:44:38.128592Z",
     "shell.execute_reply": "2023-08-13T12:44:38.127470Z"
    },
    "papermill": {
     "duration": 0.031686,
     "end_time": "2023-08-13T12:44:38.131059",
     "exception": false,
     "start_time": "2023-08-13T12:44:38.099373",
     "status": "completed"
    },
    "tags": []
   },
   "outputs": [
    {
     "data": {
      "text/plain": [
       "(4160,)"
      ]
     },
     "execution_count": 31,
     "metadata": {},
     "output_type": "execute_result"
    }
   ],
   "source": [
    "Y_test.shape"
   ]
  },
  {
   "cell_type": "markdown",
   "id": "31276b56",
   "metadata": {
    "papermill": {
     "duration": 0.021603,
     "end_time": "2023-08-13T12:46:43.781396",
     "exception": false,
     "start_time": "2023-08-13T12:46:43.759793",
     "status": "completed"
    },
    "tags": []
   },
   "source": [
    "## Model - Decision Tree Classifier"
   ]
  },
  {
   "cell_type": "code",
   "execution_count": 32,
   "id": "309b2777",
   "metadata": {
    "execution": {
     "iopub.execute_input": "2023-08-13T12:46:43.828782Z",
     "iopub.status.busy": "2023-08-13T12:46:43.828391Z",
     "iopub.status.idle": "2023-08-13T12:46:43.834032Z",
     "shell.execute_reply": "2023-08-13T12:46:43.832466Z"
    },
    "papermill": {
     "duration": 0.032367,
     "end_time": "2023-08-13T12:46:43.836468",
     "exception": false,
     "start_time": "2023-08-13T12:46:43.804101",
     "status": "completed"
    },
    "tags": []
   },
   "outputs": [],
   "source": [
    "model_dc = DecisionTreeClassifier()"
   ]
  },
  {
   "cell_type": "code",
   "execution_count": 33,
   "id": "395c5583",
   "metadata": {
    "execution": {
     "iopub.execute_input": "2023-08-13T12:46:43.884198Z",
     "iopub.status.busy": "2023-08-13T12:46:43.883298Z",
     "iopub.status.idle": "2023-08-13T12:46:45.400066Z",
     "shell.execute_reply": "2023-08-13T12:46:45.398485Z"
    },
    "papermill": {
     "duration": 1.543658,
     "end_time": "2023-08-13T12:46:45.403070",
     "exception": false,
     "start_time": "2023-08-13T12:46:43.859412",
     "status": "completed"
    },
    "tags": []
   },
   "outputs": [
    {
     "data": {
      "text/html": [
       "<style>#sk-container-id-1 {color: black;}#sk-container-id-1 pre{padding: 0;}#sk-container-id-1 div.sk-toggleable {background-color: white;}#sk-container-id-1 label.sk-toggleable__label {cursor: pointer;display: block;width: 100%;margin-bottom: 0;padding: 0.3em;box-sizing: border-box;text-align: center;}#sk-container-id-1 label.sk-toggleable__label-arrow:before {content: \"▸\";float: left;margin-right: 0.25em;color: #696969;}#sk-container-id-1 label.sk-toggleable__label-arrow:hover:before {color: black;}#sk-container-id-1 div.sk-estimator:hover label.sk-toggleable__label-arrow:before {color: black;}#sk-container-id-1 div.sk-toggleable__content {max-height: 0;max-width: 0;overflow: hidden;text-align: left;background-color: #f0f8ff;}#sk-container-id-1 div.sk-toggleable__content pre {margin: 0.2em;color: black;border-radius: 0.25em;background-color: #f0f8ff;}#sk-container-id-1 input.sk-toggleable__control:checked~div.sk-toggleable__content {max-height: 200px;max-width: 100%;overflow: auto;}#sk-container-id-1 input.sk-toggleable__control:checked~label.sk-toggleable__label-arrow:before {content: \"▾\";}#sk-container-id-1 div.sk-estimator input.sk-toggleable__control:checked~label.sk-toggleable__label {background-color: #d4ebff;}#sk-container-id-1 div.sk-label input.sk-toggleable__control:checked~label.sk-toggleable__label {background-color: #d4ebff;}#sk-container-id-1 input.sk-hidden--visually {border: 0;clip: rect(1px 1px 1px 1px);clip: rect(1px, 1px, 1px, 1px);height: 1px;margin: -1px;overflow: hidden;padding: 0;position: absolute;width: 1px;}#sk-container-id-1 div.sk-estimator {font-family: monospace;background-color: #f0f8ff;border: 1px dotted black;border-radius: 0.25em;box-sizing: border-box;margin-bottom: 0.5em;}#sk-container-id-1 div.sk-estimator:hover {background-color: #d4ebff;}#sk-container-id-1 div.sk-parallel-item::after {content: \"\";width: 100%;border-bottom: 1px solid gray;flex-grow: 1;}#sk-container-id-1 div.sk-label:hover label.sk-toggleable__label {background-color: #d4ebff;}#sk-container-id-1 div.sk-serial::before {content: \"\";position: absolute;border-left: 1px solid gray;box-sizing: border-box;top: 0;bottom: 0;left: 50%;z-index: 0;}#sk-container-id-1 div.sk-serial {display: flex;flex-direction: column;align-items: center;background-color: white;padding-right: 0.2em;padding-left: 0.2em;position: relative;}#sk-container-id-1 div.sk-item {position: relative;z-index: 1;}#sk-container-id-1 div.sk-parallel {display: flex;align-items: stretch;justify-content: center;background-color: white;position: relative;}#sk-container-id-1 div.sk-item::before, #sk-container-id-1 div.sk-parallel-item::before {content: \"\";position: absolute;border-left: 1px solid gray;box-sizing: border-box;top: 0;bottom: 0;left: 50%;z-index: -1;}#sk-container-id-1 div.sk-parallel-item {display: flex;flex-direction: column;z-index: 1;position: relative;background-color: white;}#sk-container-id-1 div.sk-parallel-item:first-child::after {align-self: flex-end;width: 50%;}#sk-container-id-1 div.sk-parallel-item:last-child::after {align-self: flex-start;width: 50%;}#sk-container-id-1 div.sk-parallel-item:only-child::after {width: 0;}#sk-container-id-1 div.sk-dashed-wrapped {border: 1px dashed gray;margin: 0 0.4em 0.5em 0.4em;box-sizing: border-box;padding-bottom: 0.4em;background-color: white;}#sk-container-id-1 div.sk-label label {font-family: monospace;font-weight: bold;display: inline-block;line-height: 1.2em;}#sk-container-id-1 div.sk-label-container {text-align: center;}#sk-container-id-1 div.sk-container {/* jupyter's `normalize.less` sets `[hidden] { display: none; }` but bootstrap.min.css set `[hidden] { display: none !important; }` so we also need the `!important` here to be able to override the default hidden behavior on the sphinx rendered scikit-learn.org. See: https://github.com/scikit-learn/scikit-learn/issues/21755 */display: inline-block !important;position: relative;}#sk-container-id-1 div.sk-text-repr-fallback {display: none;}</style><div id=\"sk-container-id-1\" class=\"sk-top-container\"><div class=\"sk-text-repr-fallback\"><pre>DecisionTreeClassifier()</pre><b>In a Jupyter environment, please rerun this cell to show the HTML representation or trust the notebook. <br />On GitHub, the HTML representation is unable to render, please try loading this page with nbviewer.org.</b></div><div class=\"sk-container\" hidden><div class=\"sk-item\"><div class=\"sk-estimator sk-toggleable\"><input class=\"sk-toggleable__control sk-hidden--visually\" id=\"sk-estimator-id-1\" type=\"checkbox\" checked><label for=\"sk-estimator-id-1\" class=\"sk-toggleable__label sk-toggleable__label-arrow\">DecisionTreeClassifier</label><div class=\"sk-toggleable__content\"><pre>DecisionTreeClassifier()</pre></div></div></div></div></div>"
      ],
      "text/plain": [
       "DecisionTreeClassifier()"
      ]
     },
     "execution_count": 33,
     "metadata": {},
     "output_type": "execute_result"
    }
   ],
   "source": [
    "model_dc.fit(X_train, Y_train)"
   ]
  },
  {
   "cell_type": "markdown",
   "id": "e1376b51",
   "metadata": {
    "papermill": {
     "duration": 0.022033,
     "end_time": "2023-08-13T12:46:45.447942",
     "exception": false,
     "start_time": "2023-08-13T12:46:45.425909",
     "status": "completed"
    },
    "tags": []
   },
   "source": [
    "### Prediction and Evaluation of Model "
   ]
  },
  {
   "cell_type": "code",
   "execution_count": 34,
   "id": "fa486b80",
   "metadata": {
    "execution": {
     "iopub.execute_input": "2023-08-13T12:46:45.496258Z",
     "iopub.status.busy": "2023-08-13T12:46:45.495836Z",
     "iopub.status.idle": "2023-08-13T12:46:45.503358Z",
     "shell.execute_reply": "2023-08-13T12:46:45.501800Z"
    },
    "papermill": {
     "duration": 0.034758,
     "end_time": "2023-08-13T12:46:45.506192",
     "exception": false,
     "start_time": "2023-08-13T12:46:45.471434",
     "status": "completed"
    },
    "tags": []
   },
   "outputs": [],
   "source": [
    "Prediction = model_dc.predict(X_test)"
   ]
  },
  {
   "cell_type": "code",
   "execution_count": 35,
   "id": "7a4bf5ae",
   "metadata": {
    "execution": {
     "iopub.execute_input": "2023-08-13T12:46:45.553615Z",
     "iopub.status.busy": "2023-08-13T12:46:45.553160Z",
     "iopub.status.idle": "2023-08-13T12:46:45.579699Z",
     "shell.execute_reply": "2023-08-13T12:46:45.578188Z"
    },
    "papermill": {
     "duration": 0.05378,
     "end_time": "2023-08-13T12:46:45.582229",
     "exception": false,
     "start_time": "2023-08-13T12:46:45.528449",
     "status": "completed"
    },
    "tags": []
   },
   "outputs": [
    {
     "name": "stdout",
     "output_type": "stream",
     "text": [
      "              precision    recall  f1-score   support\n",
      "\n",
      "           0       0.99      0.99      0.99      2077\n",
      "           1       0.99      0.99      0.99      2083\n",
      "\n",
      "    accuracy                           0.99      4160\n",
      "   macro avg       0.99      0.99      0.99      4160\n",
      "weighted avg       0.99      0.99      0.99      4160\n",
      "\n",
      "0.9925480769230769\n",
      "[[2065   12]\n",
      " [  19 2064]]\n"
     ]
    }
   ],
   "source": [
    "print(classification_report(Y_test, Prediction))\n",
    "print(accuracy_score(Y_test, Prediction))\n",
    "print(confusion_matrix(Y_test, Prediction))"
   ]
  },
  {
   "cell_type": "code",
   "execution_count": 36,
   "id": "65bce068",
   "metadata": {},
   "outputs": [],
   "source": [
    "import pickle\n",
    "pickle.dump(vectorizer, open('vector.pkl', 'wb'))\n",
    "pickle.dump(model_dc, open('model.pkl', 'wb'))\n",
    "vector_form=pickle.load(open('vector.pkl', 'rb'))\n",
    "load_model=pickle.load(open('model.pkl', 'rb'))"
   ]
  }
 ],
 "metadata": {
  "kernelspec": {
   "display_name": "Python 3 (ipykernel)",
   "language": "python",
   "name": "python3"
  },
  "language_info": {
   "codemirror_mode": {
    "name": "ipython",
    "version": 3
   },
   "file_extension": ".py",
   "mimetype": "text/x-python",
   "name": "python",
   "nbconvert_exporter": "python",
   "pygments_lexer": "ipython3",
   "version": "3.11.4"
  },
  "papermill": {
   "default_parameters": {},
   "duration": 205.821524,
   "end_time": "2023-08-13T12:46:51.792693",
   "environment_variables": {},
   "exception": null,
   "input_path": "__notebook__.ipynb",
   "output_path": "__notebook__.ipynb",
   "parameters": {},
   "start_time": "2023-08-13T12:43:25.971169",
   "version": "2.4.0"
  }
 },
 "nbformat": 4,
 "nbformat_minor": 5
}
